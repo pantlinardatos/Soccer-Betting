{
 "cells": [
  {
   "cell_type": "code",
   "execution_count": 1,
   "metadata": {
    "collapsed": false
   },
   "outputs": [
    {
     "name": "stderr",
     "output_type": "stream",
     "text": [
      "C:\\Users\\Vasileas\\Anaconda2\\lib\\site-packages\\sklearn\\cross_validation.py:44: DeprecationWarning: This module was deprecated in version 0.18 in favor of the model_selection module into which all the refactored classes and functions are moved. Also note that the interface of the new CV iterators are different from that of this module. This module will be removed in 0.20.\n",
      "  \"This module will be removed in 0.20.\", DeprecationWarning)\n"
     ]
    }
   ],
   "source": [
    "import numpy as np\n",
    "import pandas as pd\n",
    "import sklearn as sk\n",
    "from random import *\n",
    "from sklearn.cross_validation import train_test_split\n",
    "from sklearn.linear_model import LogisticRegression\n",
    "from sklearn.feature_selection import RFE\n",
    "from sklearn.tree import DecisionTreeClassifier\n",
    "from sklearn.ensemble import RandomForestClassifier\n",
    "from sklearn.neighbors import KNeighborsClassifier\n",
    "from collections import defaultdict"
   ]
  },
  {
   "cell_type": "code",
   "execution_count": 2,
   "metadata": {
    "collapsed": true
   },
   "outputs": [],
   "source": [
    "def check (i,mon):\n",
    "    if (special[[\"Month\"]].values[i][0]==mon):\n",
    "        month[special[[\"Month\"]].values[i][0]]=month[special[[\"Month\"]].values[i][0]]+1\n",
    "        if (special[[\"FullTimeResultID\"]].values[i][0]==1):\n",
    "            homewin[special[[\"Month\"]].values[i][0]]=homewin[special[[\"Month\"]].values[i][0]]+1\n",
    "        if (special[[\"FullTimeResultID\"]].values[i][0]==2):\n",
    "            awaywin[special[[\"Month\"]].values[i][0]]=awaywin[special[[\"Month\"]].values[i][0]]+1\n",
    "        if (special[[\"FullTimeResultID\"]].values[i][0]==0):\n",
    "            draw[special[[\"Month\"]].values[i][0]]=draw[special[[\"Month\"]].values[i][0]]+1        "
   ]
  },
  {
   "cell_type": "code",
   "execution_count": 3,
   "metadata": {
    "collapsed": true
   },
   "outputs": [],
   "source": [
    "def checkHTP (i,mon):\n",
    "    if (special[[\"Month\"]].values[i][0]==mon):\n",
    "        month1[special[[\"Month\"]].values[i][0]]=month1[special[[\"Month\"]].values[i][0]]+1\n",
    "        if (special[[\"HomeTeamPoints\"]].values[i][0]<=20):\n",
    "            under20[special[[\"Month\"]].values[i][0]]=under20[special[[\"Month\"]].values[i][0]]+1\n",
    "        if (special[[\"HomeTeamPoints\"]].values[i][0]>20):\n",
    "            over20[special[[\"Month\"]].values[i][0]]=over20[special[[\"Month\"]].values[i][0]]+1"
   ]
  },
  {
   "cell_type": "code",
   "execution_count": 2,
   "metadata": {
    "collapsed": false
   },
   "outputs": [],
   "source": [
    "df = pd.read_csv('ExportTraining.csv',error_bad_lines=False)\n",
    "df=df.dropna (axis=0, how=\"any\")\n",
    "\n",
    "maintrain=df[[ 'PureProbaHome','PureProbaAway','RelativePointsDifference','EatSumHomeTeamGoals','RelativeEatSumTeamGoals',]]\n",
    "maintarget=df[['FullTimeResultID']]\n",
    "special=df"
   ]
  },
  {
   "cell_type": "code",
   "execution_count": 6,
   "metadata": {
    "collapsed": false
   },
   "outputs": [
    {
     "name": "stdout",
     "output_type": "stream",
     "text": [
      "Bet365HomeWinOdds    2.378194\n",
      "dtype: float64\n",
      "Bet365AwayWinOdds    4.075744\n",
      "dtype: float64\n",
      "Bet365DrawOdds    3.516746\n",
      "dtype: float64\n"
     ]
    }
   ],
   "source": [
    "print df[['Bet365HomeWinOdds']].mean()\n",
    "print df[['Bet365AwayWinOdds']].mean()\n",
    "print df[['Bet365DrawOdds']].mean()"
   ]
  },
  {
   "cell_type": "code",
   "execution_count": 5,
   "metadata": {
    "collapsed": false
   },
   "outputs": [
    {
     "name": "stdout",
     "output_type": "stream",
     "text": [
      "month 1 Bet in : 19621 Home : 8921 Ratio 0.454665919168 Away : 5367 0.273533459049 Draw : 5333 0.271800621783\n",
      "month 2 Bet in : 18417 Home : 8191 Ratio 0.444752131183 Away : 5372 0.291687028289 Draw : 4854 0.263560840528\n",
      "month 3 Bet in : 19721 Home : 8884 Ratio 0.450484255362 Away : 5705 0.289285533188 Draw : 5132 0.26023021145\n",
      "month 4 Bet in : 19022 Home : 8558 Ratio 0.449900115656 Away : 5396 0.283671538219 Draw : 5068 0.266428346126\n",
      "month 5 Bet in : 10815 Home : 5141 Ratio 0.475358298659 Away : 3015 0.278779472954 Draw : 2659 0.245862228387\n",
      "month 6 Bet in : 6342 Home : 2937 Ratio 0.463103122044 Away : 1699 0.267896562599 Draw : 1706 0.269000315358\n",
      "month 7 Bet in : 5604 Home : 2500 Ratio 0.446109921485 Away : 1602 0.285867237687 Draw : 1502 0.268022840828\n",
      "month 8 Bet in : 17243 Home : 7529 Ratio 0.43664095575 Away : 4935 0.286203096909 Draw : 4779 0.277155947341\n",
      "month 9 Bet in : 20816 Home : 9374 Ratio 0.450326671791 Away : 5675 0.272626825519 Draw : 5767 0.27704650269\n",
      "month 10 Bet in : 20486 Home : 9483 Ratio 0.462901493703 Away : 5671 0.276823196329 Draw : 5332 0.260275309968\n",
      "month 11 Bet in : 17091 Home : 7719 Ratio 0.451641214674 Away : 4693 0.274588964952 Draw : 4679 0.273769820373\n",
      "month 12 Bet in : 16254 Home : 7232 Ratio 0.444936630983 Away : 4690 0.288544358312 Draw : 4332 0.266519010705\n"
     ]
    }
   ],
   "source": [
    "month=defaultdict(int)\n",
    "homewin=defaultdict(int)\n",
    "awaywin=defaultdict(int)\n",
    "draw=defaultdict(int)\n",
    "pl=0\n",
    "foreval=0\n",
    "\n",
    "for i in range (len(special)):\n",
    "        pl=pl+1\n",
    "        check(i,1)\n",
    "        check(i,2)\n",
    "        check(i,3)\n",
    "        check(i,4)\n",
    "        check(i,5)\n",
    "        check(i,6)\n",
    "        check(i,7)\n",
    "        check(i,8)\n",
    "        check(i,9)\n",
    "        check(i,10)\n",
    "        check(i,11)\n",
    "        check(i,12)\n",
    "        \n",
    "for i in range (13):\n",
    "    if (month[i]!=0):\n",
    "        print \"month\",i,\"Bet in :\",month[i],\"Home :\",homewin[i],\"Ratio\",float(homewin[i])/month[i],\"Away :\",awaywin[i],float(awaywin[i])/month[i],\"Draw :\",draw[i],float(draw[i])/month[i]\n"
   ]
  },
  {
   "cell_type": "code",
   "execution_count": 5,
   "metadata": {
    "collapsed": false
   },
   "outputs": [
    {
     "name": "stdout",
     "output_type": "stream",
     "text": [
      "month 1 Bet in : 19621 Over20 : 13924 Ratio 0.709647826309 Under20 : 5697 0.290352173691\n",
      "month 2 Bet in : 18417 Over20 : 14590 Ratio 0.792202856057 Under20 : 3827 0.207797143943\n",
      "month 3 Bet in : 19721 Over20 : 16896 Ratio 0.85675168602 Under20 : 2825 0.14324831398\n",
      "month 4 Bet in : 19022 Over20 : 16496 Ratio 0.867206392598 Under20 : 2526 0.132793607402\n",
      "month 5 Bet in : 10815 Over20 : 8447 Ratio 0.781044845123 Under20 : 2368 0.218955154877\n",
      "month 6 Bet in : 6342 Over20 : 3685 Ratio 0.581046988332 Under20 : 2657 0.418953011668\n",
      "month 7 Bet in : 5604 Over20 : 3317 Ratio 0.591898643826 Under20 : 2287 0.408101356174\n",
      "month 8 Bet in : 17243 Over20 : 3145 Ratio 0.182392855072 Under20 : 14098 0.817607144928\n",
      "month 9 Bet in : 20816 Over20 : 3738 Ratio 0.179573405073 Under20 : 17078 0.820426594927\n",
      "month 10 Bet in : 20486 Over20 : 5293 Ratio 0.258371570829 Under20 : 15193 0.741628429171\n",
      "month 11 Bet in : 17091 Over20 : 7783 Ratio 0.455385875607 Under20 : 9308 0.544614124393\n",
      "month 12 Bet in : 16254 Over20 : 10349 Ratio 0.636704811123 Under20 : 5905 0.363295188877\n"
     ]
    }
   ],
   "source": [
    "over20=defaultdict(int)\n",
    "under20=defaultdict(int)\n",
    "month1=defaultdict(int)\n",
    "for i in range (len(special)):\n",
    "        for j in range (1,13):\n",
    "            checkHTP(i,j)\n",
    "        \n",
    "for i in range (13):\n",
    "    if (month1[i]!=0):\n",
    "        print \"month\",i,\"Bet in :\",month1[i],\"Over20 :\",over20[i],\"Ratio\",float(over20[i])/month1[i],\"Under20 :\",under20[i],float(under20[i])/month1[i]"
   ]
  },
  {
   "cell_type": "code",
   "execution_count": 6,
   "metadata": {
    "collapsed": true
   },
   "outputs": [],
   "source": [
    "def checkBet (i,mon):\n",
    "    if (special[[\"Month\"]].values[i][0]==mon):\n",
    "        if (special[[\"Bet365HomeWinOdds\"]].values[i][0]<=1.4 or special[[\"Bet365AwayWinOdds\"]].values[i][0]<=1.4):\n",
    "            Bunder14[special[[\"Month\"]].values[i][0]]=Bunder14[special[[\"Month\"]].values[i][0]]+1\n",
    "            \n",
    "        if ((special[[\"Bet365HomeWinOdds\"]].values[i][0]>1.4 and special[[\"Bet365HomeWinOdds\"]].values[i][0]<=2) \n",
    "            or (special[[\"Bet365AwayWinOdds\"]].values[i][0]>1.4 and special[[\"Bet365AwayWinOdds\"]].values[i][0]<=2)):\n",
    "            Bunder20[special[[\"Month\"]].values[i][0]]=Bunder20[special[[\"Month\"]].values[i][0]]+1\n",
    "            \n",
    "        if (special[[\"Bet365HomeWinOdds\"]].values[i][0]>2 or special[[\"Bet365AwayWinOdds\"]].values[i][0]>2):\n",
    "            Bover20[special[[\"Month\"]].values[i][0]]=Bover20[special[[\"Month\"]].values[i][0]]+1"
   ]
  },
  {
   "cell_type": "code",
   "execution_count": 7,
   "metadata": {
    "collapsed": false
   },
   "outputs": [
    {
     "name": "stdout",
     "output_type": "stream",
     "text": [
      "month 1 Bet in : 19621 BOver20 : 19621 Ratio 1.0 BUnder20 : 8759 0.446409459253 BUnder14 : 1760 0.0896998114265\n",
      "month 2 Bet in : 18417 BOver20 : 18414 Ratio 0.999837107021 BUnder20 : 7986 0.43362111093 BUnder14 : 1471 0.0798718575229\n",
      "month 3 Bet in : 19721 BOver20 : 19721 Ratio 1.0 BUnder20 : 8595 0.435829826074 BUnder14 : 1746 0.0885350641448\n",
      "month 4 Bet in : 19022 BOver20 : 19022 Ratio 1.0 BUnder20 : 8418 0.442540216591 BUnder14 : 1745 0.091735884765\n",
      "month 5 Bet in : 10815 BOver20 : 10815 Ratio 1.0 BUnder20 : 4851 0.44854368932 BUnder14 : 1233 0.114008321775\n",
      "month 6 Bet in : 6342 BOver20 : 6342 Ratio 1.0 BUnder20 : 2911 0.459003468937 BUnder14 : 591 0.093188268685\n",
      "month 7 Bet in : 5604 BOver20 : 5604 Ratio 1.0 BUnder20 : 2497 0.445574589579 BUnder14 : 485 0.086545324768\n",
      "month 8 Bet in : 17243 BOver20 : 17243 Ratio 1.0 BUnder20 : 7487 0.434205184713 BUnder14 : 1212 0.0702893927971\n",
      "month 9 Bet in : 20816 BOver20 : 20816 Ratio 1.0 BUnder20 : 9343 0.448837432744 BUnder14 : 1479 0.0710511145273\n",
      "month 10 Bet in : 20486 BOver20 : 20486 Ratio 1.0 BUnder20 : 9134 0.445865469101 BUnder14 : 1628 0.0794689055941\n",
      "month 11 Bet in : 17091 BOver20 : 17091 Ratio 1.0 BUnder20 : 7401 0.433034930665 BUnder14 : 1502 0.0878825112632\n",
      "month 12 Bet in : 16254 BOver20 : 16254 Ratio 1.0 BUnder20 : 7107 0.437246216316 BUnder14 : 1412 0.0868709240802\n"
     ]
    }
   ],
   "source": [
    "Bover20=defaultdict(int)\n",
    "Bunder20=defaultdict(int)\n",
    "Bunder14=defaultdict(int)\n",
    "\n",
    "for i in range (len(special)):\n",
    "        for j in range (1,13):\n",
    "            checkBet(i,j)\n",
    "        \n",
    "for i in range (13):\n",
    "    if (month1[i]!=0):\n",
    "        print \"month\",i,\"Bet in :\",month1[i],\"BOver20 :\",Bover20[i],\"Ratio\",float(Bover20[i])/month1[i],\"BUnder20 :\",Bunder20[i],float(Bunder20[i])/month1[i],\"BUnder14 :\",Bunder14[i],float(Bunder14[i])/month1[i]"
   ]
  },
  {
   "cell_type": "code",
   "execution_count": null,
   "metadata": {
    "collapsed": true
   },
   "outputs": [],
   "source": [
    "month 1 Bet in : 19621 Over10 : 17734 Ratio 0.903827531726 Under10 : 1629 0.0830232913715\n",
    "month 2 Bet in : 18417 Over10 : 17073 Ratio 0.927023945268 Under10 : 1172 0.0636368572515\n",
    "month 3 Bet in : 19721 Over10 : 18785 Ratio 0.952537903757 Under10 : 801 0.0406166015922\n",
    "month 4 Bet in : 19022 Over10 : 17926 Ratio 0.942382504469 Under10 : 972 0.0510987277889\n",
    "month 5 Bet in : 10815 Over10 : 9762 Ratio 0.902635228849 Under10 : 932 0.086176606565\n",
    "month 6 Bet in : 6342 Over10 : 5129 Ratio 0.808735414696 Under10 : 1094 0.172500788395\n",
    "month 7 Bet in : 5604 Over10 : 4363 Ratio 0.778551034975 Under10 : 1177 0.210028551035\n",
    "month 8 Bet in : 17243 Over10 : 4330 Ratio 0.251116395059 Under10 : 12673 0.734964913298\n",
    "month 9 Bet in : 20816 Over10 : 8104 Ratio 0.389315910838 Under10 : 11651 0.559713681783\n",
    "month 10 Bet in : 20486 Over10 : 13856 Ratio 0.676364346383 Under10 : 5535 0.270184516255\n",
    "month 11 Bet in : 17091 Over10 : 14260 Ratio 0.834357264057 Under10 : 2361 0.138142882219\n",
    "month 12 Bet in : 16254 Over10 : 14529 Ratio 0.893872277593 Under10 : 1487 0.0914851728805"
   ]
  },
  {
   "cell_type": "code",
   "execution_count": null,
   "metadata": {
    "collapsed": true
   },
   "outputs": [],
   "source": [
    "month 1 Bet in : 19621 Over20 : 13924 Ratio 0.709647826309 Under20 : 5697 0.290352173691\n",
    "month 2 Bet in : 18417 Over20 : 14590 Ratio 0.792202856057 Under20 : 3827 0.207797143943\n",
    "month 3 Bet in : 19721 Over20 : 16896 Ratio 0.85675168602 Under20 : 2825 0.14324831398\n",
    "month 4 Bet in : 19022 Over20 : 16496 Ratio 0.867206392598 Under20 : 2526 0.132793607402\n",
    "month 5 Bet in : 10815 Over20 : 8447 Ratio 0.781044845123 Under20 : 2368 0.218955154877\n",
    "month 6 Bet in : 6342 Over20 : 3685 Ratio 0.581046988332 Under20 : 2657 0.418953011668\n",
    "month 7 Bet in : 5604 Over20 : 3317 Ratio 0.591898643826 Under20 : 2287 0.408101356174\n",
    "month 8 Bet in : 17243 Over20 : 3145 Ratio 0.182392855072 Under20 : 14098 0.817607144928\n",
    "month 9 Bet in : 20816 Over20 : 3738 Ratio 0.179573405073 Under20 : 17078 0.820426594927\n",
    "month 10 Bet in : 20486 Over20 : 5293 Ratio 0.258371570829 Under20 : 15193 0.741628429171\n",
    "month 11 Bet in : 17091 Over20 : 7783 Ratio 0.455385875607 Under20 : 9308 0.544614124393\n",
    "month 12 Bet in : 16254 Over20 : 10349 Ratio 0.636704811123 Under20 : 5905 0.363295188877"
   ]
  },
  {
   "cell_type": "code",
   "execution_count": 9,
   "metadata": {
    "collapsed": false
   },
   "outputs": [
    {
     "data": {
      "text/plain": [
       "(167229, 51)"
      ]
     },
     "execution_count": 9,
     "metadata": {},
     "output_type": "execute_result"
    }
   ],
   "source": [
    "for index,row in df.iterrows(): \n",
    "    if(row[\"Bet365HomeWinOdds\"]<=1.5 or row[\"Bet365AwayWinOdds\"]<=1.5):\n",
    "        row[\"Bet365HomeWinOdds\"]=np.nan\n",
    "        df.ix[index]=row\n",
    "df=df.dropna (axis=0, how=\"any\")\n",
    "df.shape"
   ]
  },
  {
   "cell_type": "code",
   "execution_count": null,
   "metadata": {
    "collapsed": false
   },
   "outputs": [
    {
     "name": "stderr",
     "output_type": "stream",
     "text": [
      "C:\\Users\\Vasileas\\Anaconda2\\lib\\site-packages\\pandas\\core\\indexing.py:477: SettingWithCopyWarning: \n",
      "A value is trying to be set on a copy of a slice from a DataFrame.\n",
      "Try using .loc[row_indexer,col_indexer] = value instead\n",
      "\n",
      "See the caveats in the documentation: http://pandas.pydata.org/pandas-docs/stable/indexing.html#indexing-view-versus-copy\n",
      "  self.obj[item] = s\n"
     ]
    }
   ],
   "source": [
    "for index,row in df.iterrows(): \n",
    "    if(row[\"Month\"]==9.0 or row[\"Month\"]==8.0 or row[\"Month\"]==10.0 or row[\"Month\"]==7.0 or row[\"Month\"]==6.0 or row[\"Month\"]==11.0):\n",
    "        row[\"Month\"]=np.nan\n",
    "        df.ix[index]=row\n",
    "df=df.dropna (axis=0, how=\"any\")\n",
    "df.shape"
   ]
  },
  {
   "cell_type": "code",
   "execution_count": 5,
   "metadata": {
    "collapsed": false
   },
   "outputs": [
    {
     "data": {
      "text/plain": [
       "(77280, 51)"
      ]
     },
     "execution_count": 5,
     "metadata": {},
     "output_type": "execute_result"
    }
   ],
   "source": [
    "for index,row in df.iterrows(): \n",
    "    if(row[\"Bet365HomeWinOdds\"]<=1.7 or row[\"Bet365AwayWinOdds\"]<=1.7 or row[\"Month\"]==9.0 or row[\"Month\"]==8.0 or row[\"Month\"]==10.0 or row[\"Month\"]==7.0 or row[\"Month\"]==6.0 or row[\"Month\"]==11.0):\n",
    "        row[\"Month\"]=np.nan\n",
    "        df.ix[index]=row\n",
    "df=df.dropna (axis=0, how=\"any\")\n",
    "df.shape"
   ]
  },
  {
   "cell_type": "code",
   "execution_count": 6,
   "metadata": {
    "collapsed": false
   },
   "outputs": [
    {
     "name": "stdout",
     "output_type": "stream",
     "text": [
      "Done\n"
     ]
    }
   ],
   "source": [
    "df.to_csv('ExportTrainingWithoutMonthsAndLowOdds17.csv', index=False)\n",
    "print('Done')"
   ]
  },
  {
   "cell_type": "code",
   "execution_count": 7,
   "metadata": {
    "collapsed": true
   },
   "outputs": [],
   "source": [
    "import winsound\n",
    "winsound.Beep(300,2000)"
   ]
  },
  {
   "cell_type": "code",
   "execution_count": null,
   "metadata": {
    "collapsed": true
   },
   "outputs": [],
   "source": []
  }
 ],
 "metadata": {
  "kernelspec": {
   "display_name": "Python 2",
   "language": "python",
   "name": "python2"
  },
  "language_info": {
   "codemirror_mode": {
    "name": "ipython",
    "version": 2
   },
   "file_extension": ".py",
   "mimetype": "text/x-python",
   "name": "python",
   "nbconvert_exporter": "python",
   "pygments_lexer": "ipython2",
   "version": "2.7.13"
  }
 },
 "nbformat": 4,
 "nbformat_minor": 2
}
