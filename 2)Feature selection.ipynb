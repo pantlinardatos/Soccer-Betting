{
 "cells": [
  {
   "cell_type": "markdown",
   "metadata": {},
   "source": [
    "# Feature Selection"
   ]
  },
  {
   "cell_type": "code",
   "execution_count": 44,
   "metadata": {
    "collapsed": false
   },
   "outputs": [],
   "source": [
    "import numpy as np\n",
    "import pandas as pd\n",
    "import sklearn as sk\n",
    "from random import *\n",
    "from sklearn.cross_validation import train_test_split\n",
    "from sklearn.linear_model import LogisticRegression\n",
    "from sklearn.feature_selection import RFE\n",
    "from sklearn.tree import DecisionTreeClassifier\n",
    "from sklearn.ensemble import RandomForestClassifier\n",
    "from sklearn.neighbors import KNeighborsClassifier"
   ]
  },
  {
   "cell_type": "code",
   "execution_count": 45,
   "metadata": {
    "collapsed": false
   },
   "outputs": [],
   "source": [
    "df = pd.read_csv('ExportTrainingWithoutMonthsAndLowOdds.csv',error_bad_lines=False)\n",
    "df=df.dropna (axis=0, how=\"any\")\n",
    "\n",
    "maintrain=df[[ 'Bet365HomeWinOdds', 'Bet365DrawOdds', 'Bet365AwayWinOdds',\n",
    "       'RelativeHomeAway', 'RelativeHomeDraw', 'RelativeAwayDraw',\n",
    "       'Ganiota', 'ProbaHome', 'ProbaAway', 'ProbaDraw', 'PureProbaHome',\n",
    "       'PureProbaAway', 'PureProbaDraw', \n",
    "       'EncodingLeagueDivision', 'HomeLastRes', 'VisitorLastRes',\n",
    "       'HomeWinStreak', 'AwayWinStreak', 'HomeTeamPoints',\n",
    "       'AwayTeamPoints', 'HowMuchMaximumTeamPointsInLeague',\n",
    "       'HowMuchMinimumTeamPointsInLeague', 'HomeTeamPointsAsHost',\n",
    "       'AwayTeamPointsAsAway', 'HomeTeamGoalsAsHost', 'AwayTeamGoalsAsAway',\n",
    "       'RelativeTeamPointsAsHostAsAway', 'RelativeTeamGoalsAsHostAsAway',\n",
    "       'RelativeHomeTeamPoints', 'RelativeAwayTeamPoints',\n",
    "       'RelativePointsDifference', 'SumHomeTeamGoals', 'SumAwayTeamGoals',\n",
    "       'EatSumHomeTeamGoals', 'EatSumAwayTeamGoals', 'RelativeSumTeamGoals',\n",
    "       'RelativeEatSumTeamGoals', 'PointsDifference', 'Month', 'Day']]\n",
    "maintarget=df[['FullTimeResultID']]\n",
    "\n",
    "ran=randint(10, 200)\n",
    "x_train,x_test,y_train,y_test =  train_test_split(maintrain,maintarget,test_size=0.25,random_state=ran)\n",
    "X=x_train\n",
    "y=y_train"
   ]
  },
  {
   "cell_type": "markdown",
   "metadata": {},
   "source": [
    "## RFE"
   ]
  },
  {
   "cell_type": "code",
   "execution_count": 46,
   "metadata": {
    "collapsed": false
   },
   "outputs": [],
   "source": [
    "estimator=LogisticRegression(multi_class='multinomial',solver='sag')\n",
    "estimator2=DecisionTreeClassifier()\n",
    "estimator3=RandomForestClassifier()\n",
    "\n",
    "selector = RFE(estimator, 5 , step=1)\n",
    "selector2 = RFE(estimator2, 5, step=1)\n",
    "selector3 = RFE(estimator3, 5 , step=1)\n",
    "\n",
    "selector = selector.fit(X, y.values.ravel())\n",
    "selector2 = selector2.fit(X, y.values.ravel())\n",
    "selector3 = selector3.fit(X, y.values.ravel())\n",
    "\n",
    "rank=selector.ranking_\n",
    "rank2=selector2.ranking_\n",
    "rank3=selector3.ranking_"
   ]
  },
  {
   "cell_type": "markdown",
   "metadata": {},
   "source": [
    "#### The features I'll use are:"
   ]
  },
  {
   "cell_type": "code",
   "execution_count": 47,
   "metadata": {
    "collapsed": false
   },
   "outputs": [
    {
     "name": "stdout",
     "output_type": "stream",
     "text": [
      "Ganiota Rank: 3 Rank2: 1 Rank3: 7\n",
      "PureProbaHome Rank: 1 Rank2: 10 Rank3: 1\n",
      "PureProbaAway Rank: 1 Rank2: 15 Rank3: 1\n",
      "PureProbaDraw Rank: 1 Rank2: 7 Rank3: 4\n",
      "HowMuchMaximumTeamPointsInLeague Rank: 27 Rank2: 1 Rank3: 2\n",
      "RelativeHomeTeamPoints Rank: 8 Rank2: 1 Rank3: 1\n",
      "RelativeAwayTeamPoints Rank: 7 Rank2: 3 Rank3: 1\n",
      "RelativePointsDifference Rank: 4 Rank2: 1 Rank3: 1\n",
      "RelativeSumTeamGoals Rank: 22 Rank2: 5 Rank3: 5\n",
      "RelativeEatSumTeamGoals Rank: 19 Rank2: 4 Rank3: 6\n"
     ]
    }
   ],
   "source": [
    "for i in range (len (selector.support_)):\n",
    "    if (rank[i]+rank2[i]+rank3[i]<40):\n",
    "        print X.columns[i],\"Rank:\",rank[i],\"Rank2:\",rank2[i],\"Rank3:\",rank3[i]"
   ]
  },
  {
   "cell_type": "code",
   "execution_count": 48,
   "metadata": {
    "collapsed": false
   },
   "outputs": [],
   "source": [
    "maintrain=df[[ \n",
    "       'Ganiota','PureProbaHome',\n",
    "       'PureProbaAway', 'PureProbaDraw', \n",
    "        'HowMuchMaximumTeamPointsInLeague',\n",
    "       'RelativeHomeTeamPoints', 'RelativeAwayTeamPoints',\n",
    "       'RelativePointsDifference', 'RelativeSumTeamGoals',\n",
    "        'EatSumHomeTeamGoals','RelativeEatSumTeamGoals']]\n",
    "maintarget=df[['FullTimeResultID']]\n",
    "X=maintrain\n",
    "y=maintarget"
   ]
  },
  {
   "cell_type": "code",
   "execution_count": 49,
   "metadata": {
    "collapsed": false
   },
   "outputs": [
    {
     "name": "stdout",
     "output_type": "stream",
     "text": [
      "Automatically created module for IPython interactive environment\n",
      "Feature ranking:\n",
      "1. feature 7 (0.095032) RelativePointsDifference\n",
      "2. feature 8 (0.093779) RelativeSumTeamGoals\n",
      "3. feature 5 (0.093736) RelativeHomeTeamPoints\n",
      "4. feature 2 (0.093706) PureProbaAway\n",
      "5. feature 1 (0.093576) PureProbaHome\n",
      "6. feature 10 (0.093369) RelativeEatSumTeamGoals\n",
      "7. feature 4 (0.093044) HowMuchMaximumTeamPointsInLeague\n",
      "8. feature 9 (0.093023) EatSumHomeTeamGoals\n",
      "9. feature 6 (0.092897) RelativeAwayTeamPoints\n",
      "10. feature 3 (0.081671) PureProbaDraw\n",
      "11. feature 0 (0.076165) Ganiota\n"
     ]
    },
    {
     "data": {
      "image/png": "[encoded data removed]",
      "text/plain": [
       "<matplotlib.figure.Figure at 0x12f581d0>"
      ]
     },
     "metadata": {},
     "output_type": "display_data"
    }
   ],
   "source": [
    "%matplotlib inline\n",
    "import matplotlib.pyplot as plt\n",
    "print(__doc__)\n",
    "\n",
    "from sklearn.ensemble import ExtraTreesClassifier\n",
    "\n",
    "# Build a forest and compute the feature importances\n",
    "forest = ExtraTreesClassifier(n_estimators=250,\n",
    "                              random_state=0)\n",
    "\n",
    "forest.fit(X, y.values.ravel())\n",
    "importances = forest.feature_importances_\n",
    "std = np.std([tree.feature_importances_ for tree in forest.estimators_],\n",
    "             axis=0)\n",
    "indices = np.argsort(importances)[::-1]\n",
    "\n",
    "# Print the feature ranking\n",
    "print(\"Feature ranking:\")\n",
    "\n",
    "for f in range(X.shape[1]):\n",
    "    print \"%d. feature %d (%f)\" % (f + 1, indices[f], importances[indices[f]]),X.columns[indices[f]]\n",
    "    \n",
    "# Plot the feature importances of the forest\n",
    "plt.figure(num=None, figsize=(18, 16), dpi=80, facecolor='w', edgecolor='r')\n",
    "plt.title(\"Feature importances\")\n",
    "plt.bar(range(X.shape[1]), importances[indices],\n",
    "       color=\"black\", yerr=std[indices], align=\"center\")\n",
    "plt.xticks(range(X.shape[1]), indices)\n",
    "plt.xlim([-1, X.shape[1]])\n",
    "plt.show()"
   ]
  },
  {
   "cell_type": "code",
   "execution_count": 50,
   "metadata": {
    "collapsed": true
   },
   "outputs": [],
   "source": [
    "import winsound\n",
    "winsound.Beep(300,2000)"
   ]
  },
  {
   "cell_type": "code",
   "execution_count": null,
   "metadata": {
    "collapsed": true
   },
   "outputs": [],
   "source": []
  }
 ],
 "metadata": {
  "kernelspec": {
   "display_name": "Python 2",
   "language": "python",
   "name": "python2"
  },
  "language_info": {
   "codemirror_mode": {
    "name": "ipython",
    "version": 2
   },
   "file_extension": ".py",
   "mimetype": "text/x-python",
   "name": "python",
   "nbconvert_exporter": "python",
   "pygments_lexer": "ipython2",
   "version": "2.7.13"
  }
 },
 "nbformat": 4,
 "nbformat_minor": 2
}
