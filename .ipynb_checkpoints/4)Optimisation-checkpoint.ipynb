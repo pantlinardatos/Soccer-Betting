{
 "cells": [
  {
   "cell_type": "markdown",
   "metadata": {},
   "source": [
    "# Without Months With Odds"
   ]
  },
  {
   "cell_type": "code",
   "execution_count": 110,
   "metadata": {
    "collapsed": false
   },
   "outputs": [],
   "source": [
    "import sklearn as sk\n",
    "import matplotlib.pyplot as plt\n",
    "import numpy as np\n",
    "import pandas as pd\n",
    "from sklearn.linear_model import LogisticRegression\n",
    "from sklearn.tree import DecisionTreeClassifier\n",
    "from sklearn.ensemble import RandomForestClassifier\n",
    "from sklearn.neighbors import KNeighborsClassifier\n",
    "from sklearn.preprocessing import normalize\n",
    "from sklearn.preprocessing import scale\n",
    "from sklearn.cross_validation import cross_val_score\n",
    "from hyperopt import fmin, tpe, hp, STATUS_OK,Trials\n",
    "from sklearn.cross_validation import cross_val_score, KFold"
   ]
  },
  {
   "cell_type": "code",
   "execution_count": 111,
   "metadata": {
    "collapsed": false
   },
   "outputs": [],
   "source": [
    "#DATASET IMPORT\n",
    "df=pd.read_csv('ExportTrainingWithoutMonthsAndLowOdds17.csv',low_memory=False)\n",
    "df=df.dropna (axis=0, how=\"any\")\n",
    "#Choose the features\n",
    "X=df[[\"PureProbaHome\",\"PureProbaAway\",\n",
    "               'RelativePointsDifference',\n",
    "              'RelativeSumTeamGoals','RelativeEatSumTeamGoals']]\n",
    "y=df[['FullTimeResultID']]"
   ]
  },
  {
   "cell_type": "code",
   "execution_count": 112,
   "metadata": {
    "collapsed": true
   },
   "outputs": [],
   "source": [
    "def hyperopt_train_test(params):\n",
    "    X_ = X[:]\n",
    "\n",
    "    if 'normalize' in params:\n",
    "        if params['normalize'] == 1:\n",
    "            X_ = normalize(X_)\n",
    "        del params['normalize']\n",
    "\n",
    "    if 'scale' in params:\n",
    "        if params['scale'] == 1:\n",
    "            X_ = scale(X_)\n",
    "        del params['scale']\n",
    "    #clf = LogisticRegression(**params)\n",
    "    #clf = RandomForestClassifier(**params)\n",
    "    #clf = DecisionTreeClassifier(**params)\n",
    "    clf = KNeighborsClassifier(**params)\n",
    "        \n",
    "    cv=KFold(X_.shape[0],5,shuffle=True,random_state=5)\n",
    "    return cross_val_score(clf, X_, y.values.ravel(),cv=cv).mean()"
   ]
  },
  {
   "cell_type": "code",
   "execution_count": 113,
   "metadata": {
    "collapsed": true
   },
   "outputs": [],
   "source": [
    "best = 0\n",
    "def f(params):\n",
    "    global best\n",
    "    acc = hyperopt_train_test(params)\n",
    "    if acc > best:\n",
    "        best = acc\n",
    "        print 'new best:', best, params\n",
    "    return {'loss': -acc, 'status': STATUS_OK}"
   ]
  },
  {
   "cell_type": "code",
   "execution_count": 114,
   "metadata": {
    "collapsed": true
   },
   "outputs": [],
   "source": [
    "Logistic4space = {\n",
    "    'C': hp.uniform('C', 0, 20),     \n",
    "    'penalty': hp.choice('penalty', ['l2']),\n",
    "    'scale': hp.choice('scale', [0, 1]),\n",
    "    'normalize': hp.choice('normalize', [0, 1]),\n",
    "    'intercept_scaling': hp.uniform('intercept_scaling', 0, 10),\n",
    "    'solver': hp.choice('solver', ['lbfgs','liblinear','sag', 'newton-cg']),\n",
    "    'class_weight': hp.choice('class_weight', ['balanced',None]), \n",
    "    'max_iter': hp.quniform('max_iter',1,100000,1)\n",
    "}"
   ]
  },
  {
   "cell_type": "code",
   "execution_count": 115,
   "metadata": {
    "collapsed": true
   },
   "outputs": [],
   "source": [
    "Forest4space = {\n",
    "    'n_estimators': hp.choice('n_estimators', [5,10,15,20,100]),\n",
    "    'criterion': hp.choice('criterion', ['gini','entropy']),\n",
    "    'max_depth': hp.quniform('max_depth',1,20,1),\n",
    "    'min_weight_fraction_leaf': hp.uniform('min_weight_fraction_leaf', 0, 0.5),     \n",
    "    'class_weight': hp.choice('class_weight', ['balanced',None]), \n",
    "    'oob_score': hp.choice('oob_score', [True,False]),\n",
    "    'verbose': hp.quniform('verbose',1,100,1)\n",
    "}"
   ]
  },
  {
   "cell_type": "code",
   "execution_count": 116,
   "metadata": {
    "collapsed": true
   },
   "outputs": [],
   "source": [
    "Desicion4space = {\n",
    "    'criterion': hp.choice('criterion', ['gini','entropy']),\n",
    "    'max_depth': hp.quniform('max_depth',1,20,1),\n",
    "    'min_weight_fraction_leaf': hp.uniform('min_weight_fraction_leaf', 0, 0.5),     \n",
    "    'class_weight': hp.choice('class_weight', ['balanced',None])\n",
    "}"
   ]
  },
  {
   "cell_type": "code",
   "execution_count": 117,
   "metadata": {
    "collapsed": true
   },
   "outputs": [],
   "source": [
    "Neighbour4space = {\n",
    "    'n_neighbors': hp.quniform('n_neighbors',1,1000,1),\n",
    "}"
   ]
  },
  {
   "cell_type": "code",
   "execution_count": 118,
   "metadata": {
    "collapsed": false
   },
   "outputs": [],
   "source": [
    "#parameters = [ 'C','penalty','scale', 'normalize', 'intercept_scaling', 'solver','class_weight','max_iter']\n",
    "#parameters = [ 'n_estimators','criterion','max_depth', 'min_weight_fraction_leaf', 'class_weight', 'oob_score','verbose']\n",
    "#parameters = [ 'criterion','max_depth', 'min_weight_fraction_leaf', 'class_weight']\n",
    "parameters = [ 'n_neighbors','algorithm', 'leaf_size', 'weights',]"
   ]
  },
  {
   "cell_type": "markdown",
   "metadata": {},
   "source": [
    "### Change the comments and the space for other algorithm optimistation"
   ]
  },
  {
   "cell_type": "code",
   "execution_count": 119,
   "metadata": {
    "collapsed": false
   },
   "outputs": [
    {
     "name": "stdout",
     "output_type": "stream",
     "text": [
      "new best: 0.429891304348 {'n_neighbors': 970.0}\n",
      "new best: 0.434433229814 {'n_neighbors': 249.0}\n",
      "new best: 0.448395445135 {'n_neighbors': 37.0}\n",
      "best:\n",
      "{'n_neighbors': 37.0}\n"
     ]
    }
   ],
   "source": [
    "trials = Trials()\n",
    "best = fmin(f, Neighbour4space , algo=tpe.suggest, max_evals=10, trials=trials)\n",
    "print 'best:'\n",
    "print best"
   ]
  },
  {
   "cell_type": "code",
   "execution_count": 120,
   "metadata": {
    "collapsed": true
   },
   "outputs": [],
   "source": [
    "import winsound\n",
    "winsound.Beep(300,2000)"
   ]
  }
 ],
 "metadata": {
  "kernelspec": {
   "display_name": "Python 2",
   "language": "python",
   "name": "python2"
  },
  "language_info": {
   "codemirror_mode": {
    "name": "ipython",
    "version": 2
   },
   "file_extension": ".py",
   "mimetype": "text/x-python",
   "name": "python",
   "nbconvert_exporter": "python",
   "pygments_lexer": "ipython2",
   "version": "2.7.13"
  }
 },
 "nbformat": 4,
 "nbformat_minor": 2
}
